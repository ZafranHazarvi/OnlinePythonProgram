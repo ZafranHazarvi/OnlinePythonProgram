{
 "cells": [
  {
   "cell_type": "code",
   "execution_count": 4,
   "id": "cbf8d842",
   "metadata": {},
   "outputs": [
    {
     "name": "stdout",
     "output_type": "stream",
     "text": [
      "Twinkle,twinkle,little star, \n",
      "\tHow I wonder what you are! \n",
      "\t\tUp above the world so high, \n",
      "\t\tLike a diamond in the sky. \n",
      "Twinkle, twinkle, little star, \n",
      "\tHow I wonder what you are!\n"
     ]
    }
   ],
   "source": [
    "#1. Write a Python program to print the following string in a specific format\n",
    "\n",
    "print(\"Twinkle,twinkle,little star, \\n\\tHow I wonder what you are! \\n\\t\\tUp above the world so high, \\n\\t\\tLike a diamond in the sky. \\nTwinkle, twinkle, little star, \\n\\tHow I wonder what you are!\");"
   ]
  },
  {
   "cell_type": "code",
   "execution_count": 9,
   "id": "bb993928",
   "metadata": {},
   "outputs": [
    {
     "name": "stdout",
     "output_type": "stream",
     "text": [
      "Python version\n",
      "3.8.8 (default, Apr 13 2021, 15:08:03) [MSC v.1916 64 bit (AMD64)]\n",
      "Version info.\n",
      "sys.version_info(major=3, minor=8, micro=8, releaselevel='final', serial=0)\n"
     ]
    }
   ],
   "source": [
    "#2. Write a Python program to get the Python version you are using\n",
    "\n",
    "import sys \n",
    "print(\"Python version\");\n",
    "print(sys.version);\n",
    "print(\"Version info.\");\n",
    "print(sys.version_info);"
   ]
  },
  {
   "cell_type": "code",
   "execution_count": 11,
   "id": "5b582ffe",
   "metadata": {},
   "outputs": [
    {
     "name": "stdout",
     "output_type": "stream",
     "text": [
      "Current date and time:\n",
      "24-10-2021 11:51:S\n"
     ]
    }
   ],
   "source": [
    "#3. Write a Python program to display the current data and time\n",
    "\n",
    "import datetime\n",
    "now = datetime.datetime.now()\n",
    "print (\"Current date and time:\")\n",
    "print(now.strftime(\"%d-%m-%Y %H:%M:S\"))"
   ]
  },
  {
   "cell_type": "code",
   "execution_count": 14,
   "id": "aca2d436",
   "metadata": {},
   "outputs": [
    {
     "name": "stdout",
     "output_type": "stream",
     "text": [
      "enter radius of circle:4\n",
      " Area of the circle is:50.26548245743669\n"
     ]
    }
   ],
   "source": [
    "#4 .Write a Python program which accepts the radius of a circle from the user and compute the area.\n",
    "\n",
    "from math import pi\n",
    "r = float(input(\"enter radius of circle:\"))\n",
    "print(\" Area of the circle is:\" + str(pi * r**2))"
   ]
  },
  {
   "cell_type": "code",
   "execution_count": 20,
   "id": "d56a1162",
   "metadata": {},
   "outputs": [
    {
     "name": "stdout",
     "output_type": "stream",
     "text": [
      "Enter your first nameZafran\n",
      "Enter your last nameKhan\n",
      " Hellow Khan Zafran\n"
     ]
    }
   ],
   "source": [
    "#5. Write Python program which accepts the user's first and last name and print them in reverse order with a space between them.\n",
    "\n",
    "first_name = input(\"Enter your first name\");\n",
    "last_name = input(\"Enter your last name\");\n",
    "print(\" Hellow \" + last_name + \" \"+first_name);"
   ]
  },
  {
   "cell_type": "code",
   "execution_count": 22,
   "id": "5226decd",
   "metadata": {},
   "outputs": [
    {
     "name": "stdout",
     "output_type": "stream",
     "text": [
      "Enter first num65\n",
      "Enter second num34\n",
      "99\n"
     ]
    }
   ],
   "source": [
    "#6. Write a Python program which takes two input from user and print them addition\n",
    "\n",
    "a = int(input(\"Enter first num\"));\n",
    "b = int(input(\"Enter second num\"));\n",
    "add = a+b;\n",
    "print(add);"
   ]
  },
  {
   "cell_type": "code",
   "execution_count": 29,
   "id": "c0d41e92",
   "metadata": {},
   "outputs": [
    {
     "name": "stdout",
     "output_type": "stream",
     "text": [
      "Enter Eng marks 67\n",
      "Enter Urdu marks 46\n",
      "Enter Math marks 78\n",
      "Enter Chem marks 90\n",
      "Enter Phy marks 60\n",
      "68.2\n",
      "Grade B\n"
     ]
    }
   ],
   "source": [
    "#7. Write a program which takes 5 inputs from user for different subject's marks,total it and generate mark sheet using grades\n",
    "\n",
    "Eng = int(input(\"Enter Eng marks \"));\n",
    "Urdu = int(input(\"Enter Urdu marks \"));\n",
    "Math = int(input(\"Enter Math marks \"));\n",
    "Chem = int(input(\"Enter Chem marks \"));\n",
    "Phy = int(input(\"Enter Phy marks \"));\n",
    "Total_marks = 500;\n",
    "sum = Eng + Urdu + Math + Chem + Phy;\n",
    "percent = sum * 100 / Total_marks;\n",
    "print(percent);\n",
    "if percent <= 100 and percent >= 80:\n",
    "    print(\"Grade A+\");\n",
    "elif percent < 80 and percent >= 70:\n",
    "    print(\"Grade A\");\n",
    "elif percent < 70 and percent >= 60:\n",
    "    print(\"Grade B\");\n",
    "elif percent < 60 and percent >= 50:\n",
    "    print(\"Grade C\");\n",
    "elif percent < 50 and percent >= 40:\n",
    "    print(\"Grade D\");\n",
    "elif percent < 40 and percent >= 33:\n",
    "    print(\"Pass\");\n",
    "elif percent > 100 and percent < 0:\n",
    "    print(\"Wrong Formate\");\n",
    "else:\n",
    "    print(\"Fail\");\n",
    "    "
   ]
  },
  {
   "cell_type": "code",
   "execution_count": 35,
   "id": "040c4a3c",
   "metadata": {},
   "outputs": [
    {
     "name": "stdout",
     "output_type": "stream",
     "text": [
      "Enter the num 79\n",
      "Odd Number\n"
     ]
    }
   ],
   "source": [
    "#8. Write a program which take input from user and identify that the given number is even or odd?\n",
    "\n",
    "x = int(input(\"Enter the num \"));\n",
    "if x % 2 == 0:\n",
    "    print(\"Even Number\");\n",
    "else:\n",
    "    print(\"Odd Number\");"
   ]
  },
  {
   "cell_type": "code",
   "execution_count": 36,
   "id": "8dc29396",
   "metadata": {},
   "outputs": [
    {
     "name": "stdout",
     "output_type": "stream",
     "text": [
      "length of list 7\n"
     ]
    }
   ],
   "source": [
    "#9. Write a program which print the length of the lis?\n",
    "\n",
    "list = [1,3,4,5,7,2,6];\n",
    "print(\"length of list\" ,len(list));"
   ]
  },
  {
   "cell_type": "code",
   "execution_count": 2,
   "id": "84c70a86",
   "metadata": {},
   "outputs": [
    {
     "name": "stdout",
     "output_type": "stream",
     "text": [
      "How many numbers: 10\n",
      "Enter number1\n",
      "Enter number2\n",
      "Enter number3\n",
      "Enter number4\n",
      "Enter number5\n",
      "Enter number6\n",
      "Enter number7\n",
      "Enter number8\n",
      "Enter number9\n",
      "Enter number10\n",
      "Sum of element in give n list is : 10\n"
     ]
    }
   ],
   "source": [
    "#10. Write a Python to sum all the numeric items in a list?\n",
    "\n",
    "list = []\n",
    "num = int(input('How many numbers: '))\n",
    "for n in range(num):\n",
    "    numbers = int(input('Enter number'))\n",
    "list.append(numbers)\n",
    "print(\"Sum of element in give n list is :\" , sum(list));"
   ]
  },
  {
   "cell_type": "code",
   "execution_count": 3,
   "id": "143f88e7",
   "metadata": {},
   "outputs": [
    {
     "name": "stdout",
     "output_type": "stream",
     "text": [
      "The largest num in list 93\n"
     ]
    }
   ],
   "source": [
    "#11. Write a Python program to get the largest number from a numeric list.\n",
    "\n",
    "list = [1,1,2,3,6,9,17,29,47,63,93];\n",
    "print(\"The largest num in list\" , max(list));"
   ]
  },
  {
   "cell_type": "code",
   "execution_count": 1,
   "id": "09b36db6",
   "metadata": {},
   "outputs": [
    {
     "name": "stdout",
     "output_type": "stream",
     "text": [
      "1\n",
      "1\n",
      "2\n",
      "3\n"
     ]
    }
   ],
   "source": [
    "#12. a= [1,1,2,3,5,8,13,21,34,55,89]\n",
    "# Write a program that prints out all the elements of the list that are less than 5.\n",
    "\n",
    "a = [1,1,2,3,5,8,13,21,34,55,89];\n",
    "for i in a :\n",
    "   if i < 5:\n",
    "     print(i);"
   ]
  },
  {
   "cell_type": "code",
   "execution_count": null,
   "id": "299ead25",
   "metadata": {},
   "outputs": [],
   "source": []
  }
 ],
 "metadata": {
  "kernelspec": {
   "display_name": "Python 3",
   "language": "python",
   "name": "python3"
  },
  "language_info": {
   "codemirror_mode": {
    "name": "ipython",
    "version": 3
   },
   "file_extension": ".py",
   "mimetype": "text/x-python",
   "name": "python",
   "nbconvert_exporter": "python",
   "pygments_lexer": "ipython3",
   "version": "3.8.8"
  }
 },
 "nbformat": 4,
 "nbformat_minor": 5
}
