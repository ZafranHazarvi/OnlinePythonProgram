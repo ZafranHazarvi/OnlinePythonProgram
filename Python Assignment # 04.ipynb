{
 "cells": [
  {
   "cell_type": "code",
   "execution_count": 5,
   "id": "05dd1d7c",
   "metadata": {},
   "outputs": [
    {
     "name": "stdout",
     "output_type": "stream",
     "text": [
      "1.Addition\n",
      "2.Subtration\n",
      "3.Multiplication\n",
      "4.Division\n",
      "5.Power\n",
      "Enter your Choice:4\n",
      "Enter your Num1:5\n",
      "Enter your Num2:0\n",
      "Division by 0 is Error \n"
     ]
    }
   ],
   "source": [
    "# 1.Make a calculator using Python with addition, subtration, multiplication, division, and power.\n",
    "\n",
    "print(\"1.Addition\")\n",
    "print(\"2.Subtration\")\n",
    "print(\"3.Multiplication\")\n",
    "print(\"4.Division\")\n",
    "print(\"5.Power\")\n",
    "\n",
    "Choice = input(\"Enter your Choice:\")\n",
    "Num1 = float(input(\"Enter your Num1:\"))\n",
    "Num2 = float(input(\"Enter your Num2:\"))\n",
    "\n",
    "if Choice == \"1\":\n",
    "    print(Num1,\"+\", Num2, \"=\", (Num1+Num2))\n",
    "    \n",
    "elif Choice == \"2\":\n",
    "    print(Num1,\"-\", Num2, \"=\",(Num1-Num2))\n",
    "    \n",
    "elif Choice == \"3\":\n",
    "    print(Num1,\"*\", Num2, \"=\", (Num1*Num2))\n",
    "    \n",
    "elif Choice == \"4\":\n",
    "    if Num2==0.0:\n",
    "        print(\"Division by 0 is Error \")\n",
    "    else:\n",
    "        print(Num1,\"/\", Num2, \"=\", (Num1/Num2))\n",
    "    \n",
    "elif Choice == \"5\":\n",
    "    print(Num1,\"**\", Num2, \"=\", (Num1**Num2))\n",
    "else:\n",
    "    print(\"Your Choice is Wrong\")\n"
   ]
  },
  {
   "cell_type": "code",
   "execution_count": 23,
   "id": "7e753388",
   "metadata": {},
   "outputs": [
    {
     "name": "stdout",
     "output_type": "stream",
     "text": [
      "76\n"
     ]
    }
   ],
   "source": [
    "# 2.Write a program to check if there is any numeric value in list using for loop.\n",
    "\n",
    "list = [\"zafii\",\"ali\",76,\"abc\"]\n",
    "for i in list:\n",
    "    if type(i)==int:\n",
    "        print(i)"
   ]
  },
  {
   "cell_type": "code",
   "execution_count": 10,
   "id": "12bcefe3",
   "metadata": {},
   "outputs": [
    {
     "name": "stdout",
     "output_type": "stream",
     "text": [
      "{0: 10, 1: 20, 2: 30}\n",
      "{0: 10, 1: 20, 2: 30, 3: 40}\n"
     ]
    }
   ],
   "source": [
    "# 3.Write a python script to add a key to a dictionary.\n",
    "\n",
    "Dic = {0:10,1:20,2:30}\n",
    "print(Dic)\n",
    "Dic.update({3:40})\n",
    "print(Dic)"
   ]
  },
  {
   "cell_type": "code",
   "execution_count": 11,
   "id": "017a717b",
   "metadata": {},
   "outputs": [
    {
     "name": "stdout",
     "output_type": "stream",
     "text": [
      "319\n"
     ]
    }
   ],
   "source": [
    "# 4.Write a python program to sum all the items in a dictionary.\n",
    "\n",
    "Dic = {'Math':76,'Eng':64,'Chem':94,'phy':85}\n",
    "print(sum(Dic.values()))"
   ]
  },
  {
   "cell_type": "code",
   "execution_count": 14,
   "id": "cf8ef88e",
   "metadata": {},
   "outputs": [
    {
     "name": "stdout",
     "output_type": "stream",
     "text": [
      "3\n"
     ]
    }
   ],
   "source": [
    "# 5.Write a program to identify duplicate values from list.\n",
    "\n",
    "list_1 = [2,1,3,4,6,7,3,8,9]\n",
    "list_2=[]\n",
    "for i in list_1:\n",
    "    if i  not in list_2:\n",
    "        list_2.append(i)\n",
    "    else:\n",
    "        print(i)"
   ]
  },
  {
   "cell_type": "code",
   "execution_count": 18,
   "id": "7caedcc3",
   "metadata": {},
   "outputs": [
    {
     "name": "stdout",
     "output_type": "stream",
     "text": [
      " Key is Present in Dictionary\n",
      "Key is Not present in Dictionary\n"
     ]
    }
   ],
   "source": [
    "# 6.Write a python script to check if a given key already exists in a dictionary.\n",
    "\n",
    "Dic = {1:5,2:10,3:15,4:20,5:25}\n",
    "def is_key_present(x):\n",
    "    if x in Dic:\n",
    "        print(\" Key is Present in Dictionary\")\n",
    "    else:\n",
    "        print(\"Key is Not present in Dictionary\")\n",
    "is_key_present(5) \n",
    "is_key_present(7)"
   ]
  },
  {
   "cell_type": "code",
   "execution_count": null,
   "id": "12157f5b",
   "metadata": {},
   "outputs": [],
   "source": []
  }
 ],
 "metadata": {
  "kernelspec": {
   "display_name": "Python 3",
   "language": "python",
   "name": "python3"
  },
  "language_info": {
   "codemirror_mode": {
    "name": "ipython",
    "version": 3
   },
   "file_extension": ".py",
   "mimetype": "text/x-python",
   "name": "python",
   "nbconvert_exporter": "python",
   "pygments_lexer": "ipython3",
   "version": "3.8.8"
  }
 },
 "nbformat": 4,
 "nbformat_minor": 5
}
